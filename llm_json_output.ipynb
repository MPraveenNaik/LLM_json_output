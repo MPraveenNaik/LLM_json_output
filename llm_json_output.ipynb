{
 "cells": [
  {
   "cell_type": "markdown",
   "id": "9a6506d2",
   "metadata": {},
   "source": [
    "# LLM-Powered JSON Parser Project by Praveen \n",
    "\n",
    "## Overview\n",
    "This notebook demonstrates how to process user queries using a large language model (LLM) to extract structured information in JSON format.\n",
    "\n",
    "## Instructions\n",
    "1. Install the required libraries.(execute first cell)\n",
    "2. Set up the API key for Groq LLM.(Add in  your api key , for now my api key is added)\n",
    "3. Run the cells sequentially to test the application.(Must run all cells for first time, to avoid technical issues)\n",
    "4. Running only last cell to give query directly shall fetch output, after  the first run\n",
    "5. To refine one can modify the prompt as per the requirement.\n",
    "\n",
    "## Miscellaneous\n",
    "In case of difficulty in or error with groq try following dignosis\n",
    "1. Select different python kernel or version\n",
    "2. Try restarting the project.\n",
    "3. Check all installations are latest and compatible \n",
    "\n",
    "\n",
    "---\n",
    "## Additional Explanation\n",
    "This is a simple implementation of query parser using LLM , can be levaraged more to more specific applications.\n",
    "Sample response \n",
    "\n",
    "query : get gmv for flipkart for last year \n",
    "\n",
    "Output:\n",
    "{\n",
    "    \"entities\": [\n",
    "        {\n",
    "            \"entity\": \"Flipkart\",\n",
    "            \"parameter\": \"Gross Merchandise Value (GMV)\",\n",
    "            \"start_date\": \"2022-01-01\",\n",
    "            \"end_date\": \"2022-12-31\"\n",
    "        }\n",
    "    ]\n",
    "}\n",
    "This is as mentioned in the instruction. More fields like value of GMV could be added for enhancing this."
   ]
  },
  {
   "cell_type": "code",
   "execution_count": null,
   "metadata": {},
   "outputs": [],
   "source": [
    "# Install required libraries\n",
    "!pip install Groq pandas python-dateutil"
   ]
  },
  {
   "cell_type": "code",
   "execution_count": 3,
   "metadata": {},
   "outputs": [],
   "source": [
    "# Import necessary libraries\n",
    "import json\n",
    "from datetime import datetime, timedelta\n",
    "# from dateutil import parser, relativedelta\n",
    "from groq import Groq"
   ]
  },
  {
   "cell_type": "code",
   "execution_count": 4,
   "metadata": {},
   "outputs": [],
   "source": [
    "# Configuration settings\n",
    "DEFAULT_START_DATE = (datetime.now() - timedelta(days=365)).strftime('%Y-%m-%d')\n",
    "DEFAULT_END_DATE = datetime.now().strftime('%Y-%m-%d')\n",
    "\n",
    "# Groq API key (replace with actual key)\n",
    "GROQ_API_KEY = \"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\"\n",
    "GROQ_MODEL_NAME = \"llama-3.1-8b-instant\""
   ]
  },
  {
   "cell_type": "code",
   "execution_count": 5,
   "metadata": {},
   "outputs": [],
   "source": [
    "def query_llm(user_query):\n",
    "    \"\"\"Send user query to the LLM and return the response.\"\"\"\n",
    "    client = Groq(api_key=GROQ_API_KEY)\n",
    "\n",
    "    #one can modify below prompt for additional requirements\n",
    "    response=client.chat.completions.create(\n",
    "    messages=[\n",
    "        {\n",
    "            \"role\": \"user\",\n",
    "            \"content\": f\"\"\"\n",
    "                Extract the following details from the user query:\n",
    "                1. Entity (company name)\n",
    "                2. Parameter (performance metric)\n",
    "                3. Start Date\n",
    "                4. End Date\n",
    "                Include the results in the following JSON format:\n",
    "                {{\n",
    "                    \"entities\": [\n",
    "                        {{\n",
    "                            \"entity\": \"Company Name\",\n",
    "                            \"parameter\": \"Metric\",\n",
    "                            \"start_date\": \"YYYY-MM-DD\",\n",
    "                            \"end_date\": \"YYYY-MM-DD\"\n",
    "                        }}\n",
    "                    ]\n",
    "                }}\n",
    "                \n",
    "                Query: \"{user_query}\"\n",
    "                Provide the output strictly in the  only JSON format mentioned above without any additional text or comments or even pretext. default should time period should be last year.\n",
    "                \"\"\"\n",
    "        }\n",
    "    ],\n",
    "    model=\"llama3-8b-8192\",\n",
    ")\n",
    "    return response.choices[0].message.content # Extract and return LLM output"
   ]
  },
  {
   "cell_type": "code",
   "execution_count": 6,
   "metadata": {},
   "outputs": [],
   "source": [
    "QUERY_HISTORY = []\n",
    "\n",
    "def update_history(query):\n",
    "    QUERY_HISTORY.append(query)\n",
    "    if len(QUERY_HISTORY) > 6:\n",
    "        QUERY_HISTORY.pop(0)\n",
    "\n",
    "def get_history_context():\n",
    "    return \"\\n\".join(QUERY_HISTORY)"
   ]
  },
  {
   "cell_type": "code",
   "execution_count": 18,
   "metadata": {},
   "outputs": [
    {
     "name": "stdout",
     "output_type": "stream",
     "text": [
      "Generated JSON output:\n",
      "Here are the extracted details in the required JSON format:\n",
      "\n",
      "```\n",
      "{\n",
      "    \"entities\": [\n",
      "        {\n",
      "            \"entity\": \"Flipkart\",\n",
      "            \"parameter\": \"Gross Merchandise Value (GMV)\",\n",
      "            \"start_date\": \"2022-01-01\",\n",
      "            \"end_date\": \"2022-12-31\"\n",
      "        }\n",
      "    ]\n",
      "}\n",
      "```\n"
     ]
    }
   ],
   "source": [
    "def main():\n",
    "    user_query = input(\"Enter your query: \")\n",
    "    update_history(user_query)\n",
    "    llm_response = query_llm(user_query)\n",
    "    output =llm_response\n",
    "    # extract_details(llm_response)\n",
    "    # process_query(llm_response, user_query)\n",
    "    print(\"Generated JSON output:\")\n",
    "    print(output)\n",
    "\n",
    "main()"
   ]
  }
 ],
 "metadata": {
  "kernelspec": {
   "display_name": "Python 3",
   "language": "python",
   "name": "python3"
  },
  "language_info": {
   "codemirror_mode": {
    "name": "ipython",
    "version": 3
   },
   "file_extension": ".py",
   "mimetype": "text/x-python",
   "name": "python",
   "nbconvert_exporter": "python",
   "pygments_lexer": "ipython3",
   "version": "3.12.5"
  }
 },
 "nbformat": 4,
 "nbformat_minor": 5
}
